{
  "nbformat": 4,
  "nbformat_minor": 0,
  "metadata": {
    "colab": {
      "name": "pyspark_test.ipynb",
      "provenance": [],
      "collapsed_sections": [],
      "toc_visible": true,
      "mount_file_id": "1BlMJ_RagXZRtMyZlP2tHM6OaLMy1ncY9",
      "authorship_tag": "ABX9TyPlZhzMBUWBYYC803Txe8t/",
      "include_colab_link": true
    },
    "kernelspec": {
      "name": "python3",
      "display_name": "Python 3"
    },
    "language_info": {
      "name": "python"
    }
  },
  "cells": [
    {
      "cell_type": "markdown",
      "metadata": {
        "id": "view-in-github",
        "colab_type": "text"
      },
      "source": [
        "<a href=\"https://colab.research.google.com/github/mehulpatel21/mehulpatel21/blob/main/pyspark_test.ipynb\" target=\"_parent\"><img src=\"https://colab.research.google.com/assets/colab-badge.svg\" alt=\"Open In Colab\"/></a>"
      ]
    },
    {
      "cell_type": "code",
      "execution_count": null,
      "metadata": {
        "id": "BQ9os6qvLk9k"
      },
      "outputs": [],
      "source": [
        "!apt-get update\n",
        "!apt-get install openjdk-8-jdk-headless -qq > /dev/null\n",
        "!wget -q http://archive.apache.org/dist/spark/spark-2.3.1/spark-2.3.1-bin-hadoop2.7.tgz\n",
        "!tar xf spark-2.3.1-bin-hadoop2.7.tgz\n",
        "!pip install -q findspark"
      ]
    },
    {
      "cell_type": "code",
      "source": [
        "import os\n",
        "os.environ[\"JAVA_HOME\"] = \"/usr/lib/jvm/java-8-openjdk-amd64\"\n",
        "os.environ[\"SPARK_HOME\"] = \"/content/spark-2.3.1-bin-hadoop2.7\"\n",
        "\n",
        "!ls\n",
        "\n",
        "import findspark\n",
        "findspark.init()\n",
        "\n",
        "import pyspark\n",
        "from pyspark.sql import SparkSession\n",
        "spark = SparkSession.builder.getOrCreate()\n",
        "spark"
      ],
      "metadata": {
        "id": "haV_9-sdMQU7",
        "colab": {
          "base_uri": "https://localhost:8080/",
          "height": 237
        },
        "outputId": "a02f46c2-0211-4a31-e7b4-6acd4a2aefe4"
      },
      "execution_count": 2,
      "outputs": [
        {
          "output_type": "stream",
          "name": "stdout",
          "text": [
            "sample_data  spark-2.3.1-bin-hadoop2.7\tspark-2.3.1-bin-hadoop2.7.tgz\n"
          ]
        },
        {
          "output_type": "execute_result",
          "data": {
            "text/plain": [
              "<pyspark.sql.session.SparkSession at 0x7f43415bc6d0>"
            ],
            "text/html": [
              "\n",
              "            <div>\n",
              "                <p><b>SparkSession - in-memory</b></p>\n",
              "                \n",
              "        <div>\n",
              "            <p><b>SparkContext</b></p>\n",
              "\n",
              "            <p><a href=\"http://dcdcc7f108e3:4040\">Spark UI</a></p>\n",
              "\n",
              "            <dl>\n",
              "              <dt>Version</dt>\n",
              "                <dd><code>v2.3.1</code></dd>\n",
              "              <dt>Master</dt>\n",
              "                <dd><code>local[*]</code></dd>\n",
              "              <dt>AppName</dt>\n",
              "                <dd><code>pyspark-shell</code></dd>\n",
              "            </dl>\n",
              "        </div>\n",
              "        \n",
              "            </div>\n",
              "        "
            ]
          },
          "metadata": {},
          "execution_count": 2
        }
      ]
    },
    {
      "cell_type": "code",
      "source": [
        "\"\"\"\n",
        "for each loan_ar_id, there will be multiple records with different snapshot_dates\n",
        "for each record, create the following:\n",
        "  1) lag_tot_bill_am - start from earliest record with 0, and then assign prev snapshot's tot_bill_am - done\n",
        "  2) increase counter from N=1 through N=25 = done\n",
        "  3) bill3m - if tot_bill_am > lag_tot_bill_am then 1 else 0 (if N=1, bill3m = 0)\n",
        "  4) bill_chng_dt - Start with bill3m = 1 and assign snapshot_date as bill_chng_dt, keep going until you encounter another 1.\n",
        "  5) mnth_sinc_bill_chng - difference between snapshot_date and bill_chng_dt\n",
        "\"\"\"\n"
      ],
      "metadata": {
        "colab": {
          "base_uri": "https://localhost:8080/",
          "height": 35
        },
        "id": "3IiBuxLtMpDL",
        "outputId": "53fe1236-b622-4ca3-bca8-34c8846d32ed"
      },
      "execution_count": null,
      "outputs": [
        {
          "output_type": "execute_result",
          "data": {
            "text/plain": [
              "'2.3.1'"
            ],
            "application/vnd.google.colaboratory.intrinsic+json": {
              "type": "string"
            }
          },
          "metadata": {},
          "execution_count": 4
        }
      ]
    },
    {
      "cell_type": "code",
      "source": [
        "full_df = spark.read.csv(\"/content/test_mnth_sinc_bill_chg.csv\", sep=\",\", header='True')"
      ],
      "metadata": {
        "id": "60A6ZOt7Qy75"
      },
      "execution_count": 97,
      "outputs": []
    },
    {
      "cell_type": "code",
      "source": [
        "full_df.show(60, False)"
      ],
      "metadata": {
        "id": "JXPbsLLIRBLL"
      },
      "execution_count": null,
      "outputs": []
    },
    {
      "cell_type": "code",
      "source": [
        "from pyspark.sql.functions import *\n",
        "from pyspark.sql.window import Window\n"
      ],
      "metadata": {
        "id": "sPUPRbE-SRrQ"
      },
      "execution_count": 98,
      "outputs": []
    },
    {
      "cell_type": "code",
      "source": [
        "df1 = full_df.withColumn('snapshot_dt',to_date(full_df.snapshot_dt, 'yyyy-MM-dd'))\n",
        "df1.show(60, False)"
      ],
      "metadata": {
        "id": "Mwic5VULuDDw"
      },
      "execution_count": null,
      "outputs": []
    },
    {
      "cell_type": "code",
      "source": [
        "windowSpec = Window.partitionBy(\"loan_ar_id\").orderBy(col(\"snapshot_dt\").asc())"
      ],
      "metadata": {
        "id": "cao199YiuHC7"
      },
      "execution_count": 100,
      "outputs": []
    },
    {
      "cell_type": "code",
      "source": [
        "# increase counter from N=1 through N=25 = done\n",
        "df_wind = df1.withColumn(\"N\", row_number().over(windowSpec))"
      ],
      "metadata": {
        "id": "sST9YWc3uG_6"
      },
      "execution_count": 101,
      "outputs": []
    },
    {
      "cell_type": "code",
      "source": [
        "df_wind.show(60, False)\n",
        "df_wind.printSchema()"
      ],
      "metadata": {
        "id": "2Z4dl90UuG4C"
      },
      "execution_count": null,
      "outputs": []
    },
    {
      "cell_type": "code",
      "source": [
        "# lag_tot_bill_am - start from earliest record with 0, and then assign prev snapshot's tot_bill_am\n",
        "lag_condition = when(col(\"N\") == 0, 0).when(col(\"N\") > 0, lag(df_wind.tot_bill_am).over(windowSpec))\n",
        "df_wind = df_wind.withColumn(\"lag_tot_bill_am\", lag_condition)"
      ],
      "metadata": {
        "id": "1_8pyEGeuGsR"
      },
      "execution_count": 103,
      "outputs": []
    },
    {
      "cell_type": "code",
      "source": [
        "df_wind.show(60, False)"
      ],
      "metadata": {
        "id": "_pIBgAAQTbO-"
      },
      "execution_count": null,
      "outputs": []
    },
    {
      "cell_type": "code",
      "source": [
        "# bill3m - if tot_bill_am > lag_tot_bill_am then 1 else 0 (if N=1, bill3m = 0)\n",
        "bill3m_condition = when(col(\"N\") == 1, 0).when(col(\"tot_bill_am\") > col(\"lag_tot_bill_am\"), 1).otherwise(0)\n",
        "df_wind = df_wind.withColumn(\"bill3m\", bill3m_condition)\n"
      ],
      "metadata": {
        "id": "sIfXLO9LTbMx"
      },
      "execution_count": 109,
      "outputs": []
    },
    {
      "cell_type": "code",
      "source": [
        "df_wind.show(60, False)"
      ],
      "metadata": {
        "id": "D5yfhO9VTbJ6"
      },
      "execution_count": null,
      "outputs": []
    },
    {
      "cell_type": "code",
      "source": [
        "# bill_chng_dt - Start with bill3m = 1 and assign snapshot_date as bill_chng_dt, keep going until you encounter another 1.\n",
        "bill_chng_dt_condition = when(col(\"N\") == 1, None)\\\n",
        "                            .when(col(\"bill3m\") == 1, col(\"snapshot_dt\"))\n",
        "\n",
        "\n",
        "df_wind = df_wind.withColumn(\"bill_chng_dt\", bill_chng_dt_condition)\n",
        "\n",
        "wind = (\n",
        "    Window.partitionBy('loan_ar_id').orderBy('snapshot_dt').rowsBetween(Window.unboundedPreceding, Window.currentRow)\n",
        ")\n",
        "\n",
        "final = df_wind.withColumn(\"bill_chng_dt\", last(\"bill_chng_dt\", ignorenulls=True).over(wind)).drop(\"temp_bill_chng_dt\")\n",
        "\n",
        "\n",
        "\n"
      ],
      "metadata": {
        "id": "ryiPX60hTbHK"
      },
      "execution_count": 136,
      "outputs": []
    },
    {
      "cell_type": "code",
      "source": [
        "final.show(60, False)"
      ],
      "metadata": {
        "id": "Xhv-oq9OTbDK"
      },
      "execution_count": null,
      "outputs": []
    },
    {
      "cell_type": "code",
      "source": [
        "# mnth_sinc_bill_chng - difference between snapshot_date and bill_chng_dt\n",
        "from pyspark.sql.types import IntegerType\n",
        "final_df = final.withColumn(\"mnth_sinc_bill_chng\", months_between(col(\"snapshot_dt\"), col(\"bill_chng_dt\")))\n",
        "final_df = final_df.withColumn(\"mnth_sinc_bill_chng\", final_df.mnth_sinc_bill_chng.cast(IntegerType()))\n",
        "\n"
      ],
      "metadata": {
        "id": "jnIr8KuBTa_b"
      },
      "execution_count": 142,
      "outputs": []
    },
    {
      "cell_type": "code",
      "source": [
        "final_df.show(60, False)"
      ],
      "metadata": {
        "colab": {
          "base_uri": "https://localhost:8080/"
        },
        "id": "hwXT1dVbsJMq",
        "outputId": "f4461dda-a61e-486a-d2f5-24f19771c389"
      },
      "execution_count": 143,
      "outputs": [
        {
          "output_type": "stream",
          "name": "stdout",
          "text": [
            "+----------+-----------+-----------+---+---------------+------+------------+-------------------+\n",
            "|loan_ar_id|snapshot_dt|tot_bill_am|N  |lag_tot_bill_am|bill3m|bill_chng_dt|mnth_sinc_bill_chng|\n",
            "+----------+-----------+-----------+---+---------------+------+------------+-------------------+\n",
            "|112       |2019-12-31 |200.00     |1  |null           |0     |null        |null               |\n",
            "|112       |2020-01-31 |200.00     |2  |200.00         |0     |null        |null               |\n",
            "|112       |2020-02-28 |200.00     |3  |200.00         |0     |null        |null               |\n",
            "|112       |2020-03-31 |200.00     |4  |200.00         |0     |null        |null               |\n",
            "|112       |2020-04-30 |200.00     |5  |200.00         |0     |null        |null               |\n",
            "|112       |2020-05-31 |200.00     |6  |200.00         |0     |null        |null               |\n",
            "|112       |2020-06-30 |200.00     |7  |200.00         |0     |null        |null               |\n",
            "|112       |2020-07-31 |200.00     |8  |200.00         |0     |null        |null               |\n",
            "|112       |2020-08-31 |200.00     |9  |200.00         |0     |null        |null               |\n",
            "|112       |2020-09-30 |200.00     |10 |200.00         |0     |null        |null               |\n",
            "|112       |2020-10-31 |200.00     |11 |200.00         |0     |null        |null               |\n",
            "|112       |2020-11-30 |200.00     |12 |200.00         |0     |null        |null               |\n",
            "|112       |2020-12-31 |200.00     |13 |200.00         |0     |null        |null               |\n",
            "|112       |2021-01-31 |200.00     |14 |200.00         |0     |null        |null               |\n",
            "|112       |2021-02-28 |200.00     |15 |200.00         |0     |null        |null               |\n",
            "|112       |2021-03-31 |200.00     |16 |200.00         |0     |null        |null               |\n",
            "|112       |2021-04-30 |200.00     |17 |200.00         |0     |null        |null               |\n",
            "|112       |2021-05-31 |200.00     |18 |200.00         |0     |null        |null               |\n",
            "|112       |2021-06-30 |175.00     |19 |200.00         |0     |null        |null               |\n",
            "|112       |2021-07-31 |175.00     |20 |175.00         |0     |null        |null               |\n",
            "|112       |2021-08-31 |175.00     |21 |175.00         |0     |null        |null               |\n",
            "|112       |2021-09-30 |175.00     |22 |175.00         |0     |null        |null               |\n",
            "|112       |2021-10-31 |175.00     |23 |175.00         |0     |null        |null               |\n",
            "|112       |2021-11-30 |175.00     |24 |175.00         |0     |null        |null               |\n",
            "|112       |2021-12-31 |175.00     |25 |175.00         |0     |null        |null               |\n",
            "|107       |2019-12-31 |826.50     |1  |null           |0     |null        |null               |\n",
            "|107       |2020-01-31 |821.24     |2  |826.50         |0     |null        |null               |\n",
            "|107       |2020-02-28 |817.35     |3  |821.24         |0     |null        |null               |\n",
            "|107       |2020-03-31 |789.63     |4  |817.35         |0     |null        |null               |\n",
            "|107       |2020-04-30 |813.86     |5  |789.63         |1     |2020-04-30  |0                  |\n",
            "|107       |2020-05-31 |705.21     |6  |813.86         |0     |2020-04-30  |1                  |\n",
            "|107       |2020-06-30 |713.44     |7  |705.21         |1     |2020-06-30  |0                  |\n",
            "|107       |2020-07-31 |702.03     |8  |713.44         |0     |2020-06-30  |1                  |\n",
            "|107       |2020-08-31 |710.25     |9  |702.03         |1     |2020-08-31  |0                  |\n",
            "|107       |2020-09-30 |699.17     |10 |710.25         |0     |2020-08-31  |1                  |\n",
            "|107       |2020-10-31 |705.63     |11 |699.17         |1     |2020-10-31  |0                  |\n",
            "|107       |2020-11-30 |705.27     |12 |705.63         |0     |2020-10-31  |1                  |\n",
            "|107       |2020-12-31 |684.90     |13 |705.27         |0     |2020-10-31  |2                  |\n",
            "|107       |2021-01-31 |711.87     |14 |684.90         |1     |2021-01-31  |0                  |\n",
            "|107       |2021-02-28 |700.76     |15 |711.87         |0     |2021-01-31  |1                  |\n",
            "|107       |2021-03-31 |671.19     |16 |700.76         |0     |2021-01-31  |2                  |\n",
            "|107       |2021-04-30 |697.67     |17 |671.19         |1     |2021-04-30  |0                  |\n",
            "|107       |2021-05-31 |686.71     |18 |697.67         |0     |2021-04-30  |1                  |\n",
            "|107       |2021-06-30 |685.39     |19 |686.71         |0     |2021-04-30  |2                  |\n",
            "|107       |2021-07-31 |693.05     |20 |685.39         |1     |2021-07-31  |0                  |\n",
            "|107       |2021-08-31 |691.24     |21 |693.05         |0     |2021-07-31  |1                  |\n",
            "|107       |2021-09-30 |689.48     |22 |691.24         |0     |2021-07-31  |2                  |\n",
            "|107       |2021-10-31 |678.05     |23 |689.48         |0     |2021-07-31  |3                  |\n",
            "|107       |2021-11-30 |685.87     |24 |678.05         |1     |2021-11-30  |0                  |\n",
            "|107       |2021-12-31 |675.75     |25 |685.87         |0     |2021-11-30  |1                  |\n",
            "+----------+-----------+-----------+---+---------------+------+------------+-------------------+\n",
            "\n"
          ]
        }
      ]
    },
    {
      "cell_type": "code",
      "source": [
        ""
      ],
      "metadata": {
        "id": "TkMGlP7XsJKH"
      },
      "execution_count": null,
      "outputs": []
    },
    {
      "cell_type": "code",
      "source": [
        ""
      ],
      "metadata": {
        "id": "LsPsTojjsJFY"
      },
      "execution_count": null,
      "outputs": []
    },
    {
      "cell_type": "code",
      "source": [
        ""
      ],
      "metadata": {
        "id": "EdDM4oBusJC3"
      },
      "execution_count": null,
      "outputs": []
    }
  ]
}